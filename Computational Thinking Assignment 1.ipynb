{
 "cells": [
  {
   "cell_type": "markdown",
   "metadata": {},
   "source": [
    "# Computational Thinking with Algorithms\n",
    "\n",
    "## Eimear Butler March 2019"
   ]
  },
  {
   "cell_type": "code",
   "execution_count": 1,
   "metadata": {},
   "outputs": [],
   "source": [
    "import numpy as np\n",
    "import pandas as pd"
   ]
  },
  {
   "cell_type": "markdown",
   "metadata": {},
   "source": [
    "### Question 1. \n",
    "\n",
    "Consider the following method:"
   ]
  },
  {
   "cell_type": "code",
   "execution_count": 2,
   "metadata": {},
   "outputs": [],
   "source": [
    "def mystery(n): \n",
    "    print(n)\n",
    "    if n < 4:\n",
    "        mystery(n+1)\n",
    "    print(n)"
   ]
  },
  {
   "cell_type": "markdown",
   "metadata": {},
   "source": [
    "What will the output of the call `mystery(1)` be?"
   ]
  },
  {
   "cell_type": "markdown",
   "metadata": {},
   "source": [
    "First lets run the method to see what it produces:"
   ]
  },
  {
   "cell_type": "code",
   "execution_count": 3,
   "metadata": {
    "scrolled": false
   },
   "outputs": [
    {
     "name": "stdout",
     "output_type": "stream",
     "text": [
      "1\n",
      "2\n",
      "3\n",
      "4\n",
      "4\n",
      "3\n",
      "2\n",
      "1\n"
     ]
    }
   ],
   "source": [
    "mystery(1)"
   ]
  },
  {
   "cell_type": "markdown",
   "metadata": {},
   "source": [
    "This is an unexpected result for me as I forsaw the method working as follows: "
   ]
  },
  {
   "cell_type": "code",
   "execution_count": 4,
   "metadata": {},
   "outputs": [
    {
     "ename": "IndentationError",
     "evalue": "unexpected indent (<ipython-input-4-fc4591ddc204>, line 5)",
     "output_type": "error",
     "traceback": [
      "\u001b[1;36m  File \u001b[1;32m\"<ipython-input-4-fc4591ddc204>\"\u001b[1;36m, line \u001b[1;32m5\u001b[0m\n\u001b[1;33m    def mystery(1):\u001b[0m\n\u001b[1;37m    ^\u001b[0m\n\u001b[1;31mIndentationError\u001b[0m\u001b[1;31m:\u001b[0m unexpected indent\n"
     ]
    }
   ],
   "source": [
    "### it is acknowledged these cells will result in a error but they are simply here for illustration purposes. \n",
    "#### progression of method broken down specifically where n = 1 ####\n",
    "\n",
    "\n",
    " def mystery(1):                             \n",
    "    print(1)                  --->             1\n",
    "    if n < 4:\n",
    "        mystery(1+1) \n",
    "            print(2)           --->             2\n",
    "            if n < 4:\n",
    "            mystery(2+1)\n",
    "                print(3)       --->             3\n",
    "                if n < 4:\n",
    "                mystery(3+1)\n",
    "                    print(4)   --->             4\n",
    "                     \n",
    "    print(4)                   --->             4\n",
    "\n",
    "###  Also see the diagram at: https://github.com/eimearbutler7/Computational_Thinking_2019/blob/master/Q2%20Method.png "
   ]
  },
  {
   "cell_type": "markdown",
   "metadata": {},
   "source": [
    "I am unclear how the function then begins to produce numbers that reduce in size (3, 2, 1) as to me the method should terminate once n reaches 4. \n",
    "\n",
    "It is actually a mystery to me!"
   ]
  },
  {
   "cell_type": "markdown",
   "metadata": {},
   "source": [
    "### Question 2."
   ]
  },
  {
   "cell_type": "code",
   "execution_count": 5,
   "metadata": {},
   "outputs": [],
   "source": [
    "def finder(data):\n",
    "    return finder_rec(data, len(data)-1)\n",
    "\n",
    "def finder_rec(data, x):\n",
    "    if x==0:\n",
    "        return data[x]\n",
    "    v1 = data[x]\n",
    "    v2 = finder_rec(data, x-1)\n",
    "    if v1<v2:\n",
    "        return v1\n",
    "    else:\n",
    "        return v2"
   ]
  },
  {
   "cell_type": "code",
   "execution_count": 6,
   "metadata": {},
   "outputs": [],
   "source": [
    "data_set = [0, -247, 341, 1001, 741, 22]"
   ]
  },
  {
   "cell_type": "markdown",
   "metadata": {},
   "source": [
    "**a)** The value called is -247 as seen below"
   ]
  },
  {
   "cell_type": "code",
   "execution_count": 7,
   "metadata": {},
   "outputs": [
    {
     "data": {
      "text/plain": [
       "-247"
      ]
     },
     "execution_count": 7,
     "metadata": {},
     "output_type": "execute_result"
    }
   ],
   "source": [
    "finder(data_set)"
   ]
  },
  {
   "cell_type": "markdown",
   "metadata": {},
   "source": [
    "**b)** The method receives the data array and uses a combination of the length of the array (6) and recursive methods to take 1 away from 6 until `v1<v2` at which point it enters the value of `x` at that time into `v1 = (data[x])` and the result is the data array at position `x`. In this case x was 1 and number -247 was in this position. \n",
    "\n",
    "See below where the recursion of each line is demonstrated along with the commentary"
   ]
  },
  {
   "cell_type": "markdown",
   "metadata": {},
   "source": [
    "**c)** Inline comments and recursion diagram are below:"
   ]
  },
  {
   "cell_type": "code",
   "execution_count": 35,
   "metadata": {},
   "outputs": [
    {
     "ename": "SyntaxError",
     "evalue": "invalid syntax (<ipython-input-35-30e68bd376a0>, line 5)",
     "output_type": "error",
     "traceback": [
      "\u001b[1;36m  File \u001b[1;32m\"<ipython-input-35-30e68bd376a0>\"\u001b[1;36m, line \u001b[1;32m5\u001b[0m\n\u001b[1;33m    def finder([0, -247, 341, 1001, 741, 22]):                    #data is added to the first method\u001b[0m\n\u001b[1;37m               ^\u001b[0m\n\u001b[1;31mSyntaxError\u001b[0m\u001b[1;31m:\u001b[0m invalid syntax\n"
     ]
    }
   ],
   "source": [
    "### it is acknowledged these cells will result in a error but they are simply here for illustration purposes. \n",
    "#### progression of method broken down specifically where n = 5 ####\n",
    "\n",
    "\n",
    "def finder([0, -247, 341, 1001, 741, 22]):                    #data is added to the first method\n",
    "    return finder_rec([0, -247, 341, 1001, 741, 22], (6-1))    #length of the array is 6 and this is also entered\n",
    "\n",
    "def finder_rec([0, -247, 341, 1001, 741, 22], 5):             #x = 5\n",
    "    v1 = data[0]\n",
    "    v2 = finder_rec(data, x-1)                                #x is not 0, v1 is not less than v2, so v2 method is implemented \n",
    "    else:\n",
    "        return v2\n",
    "        v2 = finder_rec([0, -247, 341, 1001, 741, 22], 4)      #x is not 0, v1 is not less than v2, so v2 method is implemented \n",
    "        else:\n",
    "            return v2\n",
    "            v2 = finder_rec([0, -247, 341, 1001, 741, 22], 3)  #x is not 0, v1 is not less than v2, so v2 method is implemented \n",
    "            else:\n",
    "                return v2\n",
    "                v2 = finder_rec([0, -247, 341, 1001, 741, 22], 2)  #x is not 0, v1 is not less than v2, so v2 method is implemented \n",
    "                else:\n",
    "                    return v2\n",
    "                    v2 = finder_rec([0, -247, 341, 1001, 741, 22], 1)  #x is not 0, but v1 is less than v2, so v1 is returned \n",
    "                       if v1<v2:\n",
    "                            return v1\n",
    "                            v1 = data[1] = -247\n",
    "                            \n",
    "\n",
    "# This term is never used as x is never = 0 and the method terminates while x = 1. This would have given an answer of 0.\n",
    "    if x==0: \n",
    "        return data[x]\n",
    "    \n",
    "# see also the diagram at https://github.com/eimearbutler7/Computational_Thinking_2019/blob/master/Q2%20Method.png"
   ]
  },
  {
   "cell_type": "markdown",
   "metadata": {},
   "source": [
    "**d)** Use of an itterative method is demonstrated below:"
   ]
  },
  {
   "cell_type": "code",
   "execution_count": 36,
   "metadata": {},
   "outputs": [],
   "source": [
    "def it(data): \n",
    "    for i in range (1, len(data)-1):    \n",
    "        if i > 1:\n",
    "            i = i - 1\n",
    "        else: \n",
    "            return data[i]  \n",
    "    "
   ]
  },
  {
   "cell_type": "code",
   "execution_count": 37,
   "metadata": {},
   "outputs": [
    {
     "data": {
      "text/plain": [
       "-247"
      ]
     },
     "execution_count": 37,
     "metadata": {},
     "output_type": "execute_result"
    }
   ],
   "source": [
    "it(data_set)"
   ]
  },
  {
   "cell_type": "markdown",
   "metadata": {},
   "source": [
    "### Question 3 "
   ]
  },
  {
   "cell_type": "code",
   "execution_count": 174,
   "metadata": {},
   "outputs": [],
   "source": [
    "def contains_duplicates(elements): \n",
    "    for i in range(0, len(elements)):      \n",
    "        for j in range(0, len(elements)): \n",
    "            if i == j: \n",
    "                continue \n",
    "            if elements[i] == elements[j]:\n",
    "                return True\n",
    "    return False"
   ]
  },
  {
   "cell_type": "code",
   "execution_count": 175,
   "metadata": {},
   "outputs": [],
   "source": [
    "elements_1 = [10, 0, 5, 3, -19, 5]  # length of 6\n",
    "elements_2 = [0, 1, 0, -127, 346, 125] # length of 6"
   ]
  },
  {
   "cell_type": "code",
   "execution_count": 176,
   "metadata": {
    "scrolled": true
   },
   "outputs": [
    {
     "data": {
      "text/plain": [
       "True"
      ]
     },
     "execution_count": 176,
     "metadata": {},
     "output_type": "execute_result"
    }
   ],
   "source": [
    "contains_duplicates(elements_1)"
   ]
  },
  {
   "cell_type": "code",
   "execution_count": 177,
   "metadata": {},
   "outputs": [
    {
     "data": {
      "text/plain": [
       "True"
      ]
     },
     "execution_count": 177,
     "metadata": {},
     "output_type": "execute_result"
    }
   ],
   "source": [
    "contains_duplicates(elements_2)"
   ]
  },
  {
   "cell_type": "markdown",
   "metadata": {},
   "source": [
    "This is a linear search where the method compares elements of each dataset and decides if they are the same.\n",
    "\n",
    "\n",
    "**a)** Assuming the method stops once it finds a duplicate, in the best case scenario, the number of process could be as little as 1 process, for example, comparing the first entry in the list to the second,  in 'Big O Notation' O(1).\n",
    "\n",
    "\n",
    "\n",
    "**b)** 'Big O Notation' applies here also and the worst case scenario is represented by: O(n) where n is the number of processes the method must make to reach a conclusion. The time to run increases at an order of magnitude proportional to n.\n",
    "\n",
    "in this case, O(n)   =   O((len(elements)-1)!) = O(5!) = O(24) as demonstrated below\n"
   ]
  },
  {
   "cell_type": "code",
   "execution_count": 274,
   "metadata": {},
   "outputs": [],
   "source": [
    "def factorial(x):\n",
    "    for i in range (1, x):\n",
    "        if i>0: \n",
    "            x = x*i\n",
    "            print(x)"
   ]
  },
  {
   "cell_type": "code",
   "execution_count": 275,
   "metadata": {
    "scrolled": true
   },
   "outputs": [
    {
     "name": "stdout",
     "output_type": "stream",
     "text": [
      "5\n",
      "10\n",
      "30\n",
      "120\n"
     ]
    }
   ],
   "source": [
    "factorial(5)"
   ]
  },
  {
   "cell_type": "code",
   "execution_count": 276,
   "metadata": {},
   "outputs": [
    {
     "ename": "SyntaxError",
     "evalue": "invalid syntax (<ipython-input-276-c83f0fb7854c>, line 4)",
     "output_type": "error",
     "traceback": [
      "\u001b[1;36m  File \u001b[1;32m\"<ipython-input-276-c83f0fb7854c>\"\u001b[1;36m, line \u001b[1;32m4\u001b[0m\n\u001b[1;33m    def factorial(5):\u001b[0m\n\u001b[1;37m                  ^\u001b[0m\n\u001b[1;31mSyntaxError\u001b[0m\u001b[1;31m:\u001b[0m invalid syntax\n"
     ]
    }
   ],
   "source": [
    "### it is acknowledged these cells will result in a error but they are simply here for illustration purposes. \n",
    "#### progression of method broken down specifically where x = 5 ####\n",
    "\n",
    "def factorial(5):\n",
    "    for i in range (1, 5): #list containing 1, 2, 3, 4\n",
    "        if 1 > 0:\n",
    "            x = 5 * (1)\n",
    "            print(5)                --->           5\n",
    "            if 2 > 0: #2 is next in range list\n",
    "                x = 5 * (2)\n",
    "                print(10)           --->           10\n",
    "                if 3 > 0:\n",
    "                    x = 10 * (3)     \n",
    "                    print(30)       --->           30\n",
    "                    if 4 > 0:\n",
    "                        x = 30 * (4)\n",
    "                        print(120)   --->          120\n"
   ]
  },
  {
   "cell_type": "markdown",
   "metadata": {},
   "source": [
    "**c)** The aim of adding an x = x+1 element to the method is to increase the value of x each time the method is run and in doing so, count the number of itterations needed. "
   ]
  },
  {
   "cell_type": "code",
   "execution_count": 277,
   "metadata": {},
   "outputs": [],
   "source": [
    "def contains_duplicates2(elements): \n",
    "    x=1\n",
    "#    print(x)\n",
    "    for i in range(0, len(elements)):      \n",
    "        for j in range(0, len(elements)): \n",
    "            if i == j: \n",
    "                x=x+1\n",
    "#                print(x)\n",
    "                continue \n",
    "            if elements[i] == elements[j]:\n",
    "                return x, True\n",
    "    return False"
   ]
  },
  {
   "cell_type": "code",
   "execution_count": 278,
   "metadata": {},
   "outputs": [
    {
     "data": {
      "text/plain": [
       "(4, True)"
      ]
     },
     "execution_count": 278,
     "metadata": {},
     "output_type": "execute_result"
    }
   ],
   "source": [
    "contains_duplicates2(elements_1)"
   ]
  },
  {
   "cell_type": "code",
   "execution_count": 279,
   "metadata": {},
   "outputs": [
    {
     "data": {
      "text/plain": [
       "(2, True)"
      ]
     },
     "execution_count": 279,
     "metadata": {},
     "output_type": "execute_result"
    }
   ],
   "source": [
    "contains_duplicates2(elements_2)"
   ]
  },
  {
   "cell_type": "code",
   "execution_count": 290,
   "metadata": {},
   "outputs": [],
   "source": [
    "### Testing again with slightly different sets of data show that the further into the data set the duplicates are, the more itterations the method needs to complete to find them. \n",
    "\n",
    "elements_3 = [10, 10, 10, 10, 10, 10]  # length of 6\n",
    "elements_4 = [0, 1, 2, 3, 4, 5, 6, 7, 8, 9, 10, 11, 12, 14, 14] # length of 15\n",
    "elements_5 = [0, 1, 2, 3, 4, 5, 6, 7, 8, 9, 10, 11, 12, 13, 14] # length of 15\n",
    "elements_6 = [0, 1, 2, 3, 4, 4] # length of 15\n",
    "elements_7 = [0, 1, 2, 3, 4, 5] # length of 15"
   ]
  },
  {
   "cell_type": "code",
   "execution_count": 293,
   "metadata": {},
   "outputs": [
    {
     "data": {
      "text/plain": [
       "(15, True)"
      ]
     },
     "execution_count": 293,
     "metadata": {},
     "output_type": "execute_result"
    }
   ],
   "source": [
    "contains_duplicates2(elements_4)"
   ]
  },
  {
   "cell_type": "code",
   "execution_count": 294,
   "metadata": {},
   "outputs": [
    {
     "data": {
      "text/plain": [
       "False"
      ]
     },
     "execution_count": 294,
     "metadata": {},
     "output_type": "execute_result"
    }
   ],
   "source": [
    "contains_duplicates2(elements_5)"
   ]
  },
  {
   "cell_type": "markdown",
   "metadata": {},
   "source": [
    "**d)** Best case run time would involve a case where the first 2 compared, matched and the method ended as True. Example below:"
   ]
  },
  {
   "cell_type": "code",
   "execution_count": 295,
   "metadata": {},
   "outputs": [
    {
     "data": {
      "text/plain": [
       "(2, True)"
      ]
     },
     "execution_count": 295,
     "metadata": {},
     "output_type": "execute_result"
    }
   ],
   "source": [
    "contains_duplicates2(elements_3)"
   ]
  },
  {
   "cell_type": "markdown",
   "metadata": {},
   "source": [
    "**e)** Worst case run time would involve the method having a large number of inputs and either a duplicate pair at the end of the search or none at all. Examples below: "
   ]
  },
  {
   "cell_type": "code",
   "execution_count": 291,
   "metadata": {},
   "outputs": [
    {
     "data": {
      "text/plain": [
       "(6, True)"
      ]
     },
     "execution_count": 291,
     "metadata": {},
     "output_type": "execute_result"
    }
   ],
   "source": [
    "contains_duplicates2(elements_6)"
   ]
  },
  {
   "cell_type": "code",
   "execution_count": 292,
   "metadata": {},
   "outputs": [
    {
     "data": {
      "text/plain": [
       "False"
      ]
     },
     "execution_count": 292,
     "metadata": {},
     "output_type": "execute_result"
    }
   ],
   "source": [
    "contains_duplicates2(elements_7)"
   ]
  },
  {
   "cell_type": "markdown",
   "metadata": {},
   "source": [
    "**f)** Which of the following would take longer: \n",
    "\n",
    "elements_1 = [10, 0, 5, 3, -19, 5]\n",
    "\n",
    "\n",
    "elements_2 = [0, 1, 0, -127, 346, 125]\n",
    "\n",
    "I think the first set (elements_1) as it has more comparisons and therefore proceses to compute before it finds a match assuming it is going from left to right through the set. \n"
   ]
  },
  {
   "cell_type": "markdown",
   "metadata": {},
   "source": [
    "### END"
   ]
  }
 ],
 "metadata": {
  "kernelspec": {
   "display_name": "Python 3",
   "language": "python",
   "name": "python3"
  },
  "language_info": {
   "codemirror_mode": {
    "name": "ipython",
    "version": 3
   },
   "file_extension": ".py",
   "mimetype": "text/x-python",
   "name": "python",
   "nbconvert_exporter": "python",
   "pygments_lexer": "ipython3",
   "version": "3.7.0"
  }
 },
 "nbformat": 4,
 "nbformat_minor": 2
}
